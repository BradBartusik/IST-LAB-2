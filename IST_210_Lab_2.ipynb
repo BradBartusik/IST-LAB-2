{
  "nbformat": 4,
  "nbformat_minor": 0,
  "metadata": {
    "colab": {
      "name": "IST 210 Lab 2",
      "provenance": [],
      "authorship_tag": "ABX9TyMqEaL4RFRSpHu9AGJrmaup",
      "include_colab_link": true
    },
    "kernelspec": {
      "name": "python3",
      "display_name": "Python 3"
    }
  },
  "cells": [
    {
      "cell_type": "markdown",
      "metadata": {
        "id": "view-in-github",
        "colab_type": "text"
      },
      "source": [
        "<a href=\"https://colab.research.google.com/github/BradBartusik/IST-LAB-2/blob/master/IST_210_Lab_2.ipynb\" target=\"_parent\"><img src=\"https://colab.research.google.com/assets/colab-badge.svg\" alt=\"Open In Colab\"/></a>"
      ]
    },
    {
      "cell_type": "markdown",
      "metadata": {
        "id": "zdmOyAnzUwm7",
        "colab_type": "text"
      },
      "source": [
        "![alt text](https://raw.githubusercontent.com/BradBartusik/ISTSLABA/master/Lab.png)\n"
      ]
    },
    {
      "cell_type": "markdown",
      "metadata": {
        "id": "YlvCvW5WVH-O",
        "colab_type": "text"
      },
      "source": [
        "I designed this Entity Relationship Diagram in this specific fashion to represent the 6 tables that I believe the managers themselves would want the Pet shop to be organized in. First, we have our 6 tables, they include the enclosure, the pet store, the pets, the pet food, the customers and the loyalty program. For the Enclosure, I decided that the primary key would be pet identification. Assuming that each enclosure would be organized in a way where each pet would have its own space. Should someone want to purchase the pet itself, the price and code would be placed together. For the pet’s themselves, I believed that Pet type (for example dog, cat, etc.) would be the primary key so each specie of pet would have a price range. For the customers, I made the primary key purchases because I believe that the most important component of the customer and business owner would be the sales. The loyalty program has Membership ID as its primary key so organization could be implemented in an efficient manner. For the pet food I made the type of food the primary key because dogs shouldn’t be eating cat food for example. Finally, for the final table, I made the pet store obtain the Pet store ID as its primary key. Should the pet store decide to add another location, each pet store should be organized with its own identification number should there be a situation where a location should be held accountable. \n"
      ]
    }
  ]
}